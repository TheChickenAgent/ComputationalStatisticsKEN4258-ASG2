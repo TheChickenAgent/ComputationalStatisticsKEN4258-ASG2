{
 "cells": [
  {
   "cell_type": "code",
   "execution_count": 2,
   "metadata": {},
   "outputs": [],
   "source": [
    "from scipy.stats import bernoulli"
   ]
  },
  {
   "cell_type": "markdown",
   "metadata": {},
   "source": [
    "# Task 1\n",
    "Reproduce Figure 1 from (Candès et al. 2018). [20 points]\n",
    "\n",
    "Use this version of the paper: https://arxiv.org/abs/1610.02351."
   ]
  },
  {
   "cell_type": "markdown",
   "metadata": {},
   "source": [
    "## Figure 1 - left part"
   ]
  },
  {
   "cell_type": "code",
   "execution_count": 5,
   "metadata": {},
   "outputs": [
    {
     "name": "stdout",
     "output_type": "stream",
     "text": [
      "[ 8.24153079e-01  1.31534574e+00  6.17964517e-01  6.35853527e-01\n",
      "  6.75984797e-01 -1.00513183e+00  1.09879872e+00 -1.16735351e+00\n",
      " -4.27046681e-01 -6.19428988e-01  3.93354911e-01 -1.32866606e+00\n",
      " -2.20168918e+00 -1.10772929e+00 -1.82108127e+00 -2.12674134e+00\n",
      " -1.05444895e+00 -3.35284451e+00 -2.42762918e+00 -1.34594246e+00\n",
      " -1.33882781e+00  1.28104485e+00  1.31802427e+00 -1.07318299e+00\n",
      " -1.48697249e+00  4.82012252e-02  7.71607679e-01  1.03314447e+00\n",
      "  2.35515315e+00  4.02940103e-01  6.11693203e-01 -2.89078805e-02\n",
      "  8.24156982e-01  8.26407858e-01  1.44424454e+00  2.33998015e+00\n",
      "  2.42185956e+00  5.61320213e-01  1.57070654e+00  1.16616170e+00\n",
      "  6.42464503e-02  6.32924188e-01  1.82606372e-01 -7.11048092e-01\n",
      " -6.67704471e-01 -1.66565755e+00 -2.88484303e+00 -2.52265906e+00\n",
      " -1.34849947e+00  1.67425901e-02  2.27294350e+00  2.38050724e+00\n",
      "  1.25154891e+00  2.96756099e+00  3.64124282e+00  2.50535445e+00\n",
      "  2.30314240e+00  1.17678898e+00  1.82126519e+00  2.00704269e+00\n",
      "  2.23540112e-01  6.78477494e-01  1.90589374e+00  7.49534873e-01\n",
      "  1.22697766e+00  2.31027012e-01 -6.13131765e-01 -1.05438784e-01\n",
      "  1.45416573e-01  2.11642431e+00  6.08263922e-01 -1.18132929e-01\n",
      " -6.62961169e-01 -2.16651639e-03 -9.67291372e-01 -2.95664712e-01\n",
      " -1.37786136e-01  1.00816439e+00 -1.14788625e+00 -6.50213811e-01\n",
      " -1.60601855e-01  2.25455410e-01 -7.97895278e-01 -1.17818047e+00\n",
      " -2.37503365e-03 -1.68459843e-01  1.67030113e-01 -1.54930216e+00\n",
      "  1.39079771e-01  1.08077387e+00  1.96560814e+00 -1.01635683e+00\n",
      "  5.80646343e-01  2.73717345e-01 -5.61950888e-01  4.46183592e-02\n",
      " -1.24866193e+00 -1.53553743e+00 -2.68344304e+00 -3.82547369e-01\n",
      " -1.68108794e-01 -4.10283414e-01 -1.38245893e+00 -1.11522512e+00\n",
      " -7.79777652e-01 -1.67008128e+00 -1.10594125e+00 -1.36062130e+00\n",
      " -2.56360533e+00 -1.67263316e+00 -1.75636877e+00 -1.65467947e+00\n",
      " -8.34579976e-01  1.58301606e+00  2.67402273e-01  1.38104745e-01\n",
      " -8.40704626e-01  5.36263953e-01 -1.86790186e+00 -9.39169554e-01\n",
      "  7.52529362e-01 -8.47130385e-01 -4.28057581e-01 -5.50772605e-01\n",
      " -1.36997609e-01 -9.25278593e-01 -4.54137231e-01  7.75607065e-01\n",
      " -1.24101585e+00 -7.00021828e-01 -6.20642409e-01  1.35503742e+00\n",
      "  1.80771577e+00  1.57639683e+00  5.15077877e-01 -1.39831822e-01\n",
      "  5.18293992e-01  3.56912794e-01  1.61069103e+00  1.30656705e+00\n",
      "  7.16862616e-01  9.99732673e-01  2.73333809e+00  3.19416921e+00\n",
      "  2.54713504e+00 -3.36677321e-01 -2.45549103e-01 -5.56513739e-01\n",
      "  7.74223921e-01  8.10546863e-01 -7.97327239e-01 -3.16685320e+00\n",
      " -1.59849681e+00 -7.79520322e-01  2.01701407e+00 -7.60971272e-01\n",
      " -1.47646576e+00  1.65597311e-01 -6.89292656e-01 -1.62833286e+00\n",
      "  4.38622846e-01  2.06947674e-01  4.94299963e-02  1.10518327e+00\n",
      "  1.41075065e+00  9.25848133e-01 -2.71300247e-01 -1.38132949e+00\n",
      " -5.40928211e-01 -1.07305458e+00 -4.14566522e-02 -7.09334965e-01\n",
      "  7.54708359e-01  1.36200034e+00  7.85845003e-01  1.61662121e+00\n",
      "  1.88144384e+00  4.69742436e-01  7.63475921e-01  1.33427851e+00\n",
      "  8.80602393e-01  1.31102822e+00  8.89138110e-01  2.84044616e-01\n",
      "  9.19673692e-01 -4.79622102e-01 -1.20206150e+00 -1.16824761e+00\n",
      " -5.28519581e-01 -7.16635117e-01  1.33736612e+00  1.02335347e+00\n",
      "  7.36438581e-01 -1.56928609e+00 -4.02771717e+00 -2.00881138e+00\n",
      " -2.11563673e+00 -3.49294293e-01 -6.75519303e-01 -1.45365247e+00]\n"
     ]
    }
   ],
   "source": [
    "#GitHub Copilot code:\n",
    "\n",
    "import numpy as np\n",
    "from statsmodels.tsa.arima_process import ArmaProcess\n",
    "\n",
    "# Set the AR coefficient\n",
    "ar_coefficient = 0.5\n",
    "p = 200\n",
    "\n",
    "# Generate the AR(1) time series\n",
    "ar_process = ArmaProcess(ar=[1, -ar_coefficient])\n",
    "time_series = ar_process.generate_sample(nsample=p)\n",
    "\n",
    "# Print the time series\n",
    "print(time_series)"
   ]
  },
  {
   "cell_type": "code",
   "execution_count": 3,
   "metadata": {},
   "outputs": [],
   "source": [
    "replications = 10000\n",
    "n = 500\n",
    "p = 200"
   ]
  },
  {
   "cell_type": "code",
   "execution_count": 4,
   "metadata": {},
   "outputs": [
    {
     "data": {
      "text/plain": [
       "array([1, 1, 0, ..., 0, 1, 0], dtype=int64)"
      ]
     },
     "execution_count": 4,
     "metadata": {},
     "output_type": "execute_result"
    }
   ],
   "source": [
    "bernoulli.rvs(p=0.5, size=n)"
   ]
  },
  {
   "cell_type": "code",
   "execution_count": null,
   "metadata": {},
   "outputs": [],
   "source": [
    "import numpy as np\n",
    "from scipy.stats import bernoulli\n",
    "\n",
    "# Set the AR coefficient\n",
    "ar_coefficient = 0.5\n",
    "p = 200\n",
    "\n",
    "# Generate the AR(1) time series\n",
    "ar_process = ArmaProcess(ar=[1, -ar_coefficient])\n",
    "time_series = ar_process.generate_sample(nsample=p)\n",
    "\n",
    "# Simulate the independent design matrices\n",
    "design_matrices = np.random.choice([0, 1], size=(replications, n, p), p=[0.5, 0.5])\n",
    "\n",
    "# Simulate the binary responses\n",
    "binary_responses = bernoulli.rvs(p=0.5, size=(replications, n))\n",
    "\n",
    "# Print the simulated data\n",
    "print(\"Design Matrices:\")\n",
    "print(design_matrices)\n",
    "print(\"Binary Responses:\")\n",
    "print(binary_responses)\n"
   ]
  },
  {
   "cell_type": "code",
   "execution_count": 1,
   "metadata": {},
   "outputs": [
    {
     "name": "stderr",
     "output_type": "stream",
     "text": [
      "100%|██████████| 10000/10000 [04:57<00:00, 33.60it/s]\n"
     ]
    },
    {
     "data": {
      "image/png": "[encoded data removed]",
      "text/plain": [
       "<Figure size 640x480 with 1 Axes>"
      ]
     },
     "metadata": {},
     "output_type": "display_data"
    }
   ],
   "source": [
    "from scipy.stats import bernoulli\n",
    "from sklearn.linear_model import LogisticRegression\n",
    "from statsmodels.tsa.arima_process import ArmaProcess\n",
    "from tqdm import tqdm\n",
    "\n",
    "# Set the AR coefficient\n",
    "ar_coefficient = 0.5\n",
    "p = 200\n",
    "n = 500\n",
    "replications = 10000\n",
    "\n",
    "# Calculate the p-values for each run\n",
    "p_values = []\n",
    "for i in tqdm(range(replications)):\n",
    "    # Generate the AR(1) time series\n",
    "    ar_process = ArmaProcess(ar=[1, -ar_coefficient])\n",
    "\n",
    "    X = []\n",
    "    for j in range(n):\n",
    "        time_series = ar_process.generate_sample(nsample=p)\n",
    "        X.append(time_series)\n",
    "\n",
    "    y = bernoulli.rvs(p=0.5, size=n)\n",
    "\n",
    "    model = LogisticRegression()\n",
    "    model.fit(X, y)\n",
    "    p_values.append(model.coef_[0])\n",
    "\n",
    "# Show a histogram of the p-values\n",
    "import matplotlib.pyplot as plt\n",
    "plt.hist(p_values, bins=20) #paper has 20 bins\n",
    "plt.xlabel('p-values')\n",
    "plt.ylabel('Frequency')\n",
    "plt.title('Histogram of p-values')\n",
    "plt.show()\n"
   ]
  },
  {
   "cell_type": "markdown",
   "metadata": {},
   "source": [
    "Based of: https://stackoverflow.com/questions/25122999/scikit-learn-how-to-check-coefficients-significance"
   ]
  },
  {
   "cell_type": "code",
   "execution_count": 2,
   "metadata": {},
   "outputs": [
    {
     "name": "stdout",
     "output_type": "stream",
     "text": [
      "[0.11413171 0.08780382]\n",
      "[0.11413093 0.08779979]\n"
     ]
    },
    {
     "data": {
      "text/html": [
       "<table class=\"simpletable\">\n",
       "<caption>Logit Regression Results</caption>\n",
       "<tr>\n",
       "  <th>Dep. Variable:</th>           <td>y</td>        <th>  No. Observations:  </th>  <td>    10</td> \n",
       "</tr>\n",
       "<tr>\n",
       "  <th>Model:</th>                 <td>Logit</td>      <th>  Df Residuals:      </th>  <td>     8</td> \n",
       "</tr>\n",
       "<tr>\n",
       "  <th>Method:</th>                 <td>MLE</td>       <th>  Df Model:          </th>  <td>     1</td> \n",
       "</tr>\n",
       "<tr>\n",
       "  <th>Date:</th>            <td>Sun, 17 Mar 2024</td> <th>  Pseudo R-squ.:     </th>  <td>0.4856</td> \n",
       "</tr>\n",
       "<tr>\n",
       "  <th>Time:</th>                <td>21:55:30</td>     <th>  Log-Likelihood:    </th> <td> -3.5656</td>\n",
       "</tr>\n",
       "<tr>\n",
       "  <th>converged:</th>             <td>True</td>       <th>  LL-Null:           </th> <td> -6.9315</td>\n",
       "</tr>\n",
       "<tr>\n",
       "  <th>Covariance Type:</th>     <td>nonrobust</td>    <th>  LLR p-value:       </th> <td>0.009472</td>\n",
       "</tr>\n",
       "</table>\n",
       "<table class=\"simpletable\">\n",
       "<tr>\n",
       "    <td></td>       <th>coef</th>     <th>std err</th>      <th>z</th>      <th>P>|z|</th>  <th>[0.025</th>    <th>0.975]</th>  \n",
       "</tr>\n",
       "<tr>\n",
       "  <th>const</th> <td>   -3.9587</td> <td>    2.506</td> <td>   -1.580</td> <td> 0.114</td> <td>   -8.870</td> <td>    0.952</td>\n",
       "</tr>\n",
       "<tr>\n",
       "  <th>x1</th>    <td>    0.8797</td> <td>    0.515</td> <td>    1.707</td> <td> 0.088</td> <td>   -0.130</td> <td>    1.890</td>\n",
       "</tr>\n",
       "</table>"
      ],
      "text/latex": [
       "\\begin{center}\n",
       "\\begin{tabular}{lclc}\n",
       "\\toprule\n",
       "\\textbf{Dep. Variable:}   &        y         & \\textbf{  No. Observations:  } &       10    \\\\\n",
       "\\textbf{Model:}           &      Logit       & \\textbf{  Df Residuals:      } &        8    \\\\\n",
       "\\textbf{Method:}          &       MLE        & \\textbf{  Df Model:          } &        1    \\\\\n",
       "\\textbf{Date:}            & Sun, 17 Mar 2024 & \\textbf{  Pseudo R-squ.:     } &   0.4856    \\\\\n",
       "\\textbf{Time:}            &     21:55:30     & \\textbf{  Log-Likelihood:    } &   -3.5656   \\\\\n",
       "\\textbf{converged:}       &       True       & \\textbf{  LL-Null:           } &   -6.9315   \\\\\n",
       "\\textbf{Covariance Type:} &    nonrobust     & \\textbf{  LLR p-value:       } &  0.009472   \\\\\n",
       "\\bottomrule\n",
       "\\end{tabular}\n",
       "\\begin{tabular}{lcccccc}\n",
       "               & \\textbf{coef} & \\textbf{std err} & \\textbf{z} & \\textbf{P$> |$z$|$} & \\textbf{[0.025} & \\textbf{0.975]}  \\\\\n",
       "\\midrule\n",
       "\\textbf{const} &      -3.9587  &        2.506     &    -1.580  &         0.114        &       -8.870    &        0.952     \\\\\n",
       "\\textbf{x1}    &       0.8797  &        0.515     &     1.707  &         0.088        &       -0.130    &        1.890     \\\\\n",
       "\\bottomrule\n",
       "\\end{tabular}\n",
       "%\\caption{Logit Regression Results}\n",
       "\\end{center}"
      ],
      "text/plain": [
       "<class 'statsmodels.iolib.summary.Summary'>\n",
       "\"\"\"\n",
       "                           Logit Regression Results                           \n",
       "==============================================================================\n",
       "Dep. Variable:                      y   No. Observations:                   10\n",
       "Model:                          Logit   Df Residuals:                        8\n",
       "Method:                           MLE   Df Model:                            1\n",
       "Date:                Sun, 17 Mar 2024   Pseudo R-squ.:                  0.4856\n",
       "Time:                        21:55:30   Log-Likelihood:                -3.5656\n",
       "converged:                       True   LL-Null:                       -6.9315\n",
       "Covariance Type:            nonrobust   LLR p-value:                  0.009472\n",
       "==============================================================================\n",
       "                 coef    std err          z      P>|z|      [0.025      0.975]\n",
       "------------------------------------------------------------------------------\n",
       "const         -3.9587      2.506     -1.580      0.114      -8.870       0.952\n",
       "x1             0.8797      0.515      1.707      0.088      -0.130       1.890\n",
       "==============================================================================\n",
       "\"\"\""
      ]
     },
     "execution_count": 2,
     "metadata": {},
     "output_type": "execute_result"
    }
   ],
   "source": [
    "import numpy as np\n",
    "from scipy.stats import norm\n",
    "from sklearn.linear_model import LogisticRegression\n",
    "\n",
    "def logit_pvalue(model, x):\n",
    "    \"\"\" Calculate z-scores for scikit-learn LogisticRegression.\n",
    "    parameters:\n",
    "        model: fitted sklearn.linear_model.LogisticRegression with intercept and large C\n",
    "        x:     matrix on which the model was fit\n",
    "    This function uses asymtptics for maximum likelihood estimates.\n",
    "    \"\"\"\n",
    "    p = model.predict_proba(x)\n",
    "    n = len(p)\n",
    "    m = len(model.coef_[0]) + 1\n",
    "    coefs = np.concatenate([model.intercept_, model.coef_[0]])\n",
    "    x_full = np.matrix(np.insert(np.array(x), 0, 1, axis = 1))\n",
    "    ans = np.zeros((m, m))\n",
    "    for i in range(n):\n",
    "        ans = ans + np.dot(np.transpose(x_full[i, :]), x_full[i, :]) * p[i,1] * p[i, 0]\n",
    "    vcov = np.linalg.inv(np.matrix(ans))\n",
    "    se = np.sqrt(np.diag(vcov))\n",
    "    t =  coefs/se  \n",
    "    p = (1 - norm.cdf(abs(t))) * 2\n",
    "    return p\n",
    "\n",
    "# test p-values\n",
    "x = np.arange(10)[:, np.newaxis]\n",
    "y = np.array([0,0,0,1,0,0,1,1,1,1])\n",
    "model = LogisticRegression(C=1e30).fit(x, y)\n",
    "print(logit_pvalue(model, x))\n",
    "\n",
    "# compare with statsmodels\n",
    "import statsmodels.api as sm\n",
    "sm_model = sm.Logit(y, sm.add_constant(x)).fit(disp=0)\n",
    "print(sm_model.pvalues)\n",
    "sm_model.summary()"
   ]
  },
  {
   "cell_type": "code",
   "execution_count": 4,
   "metadata": {},
   "outputs": [
    {
     "name": "stderr",
     "output_type": "stream",
     "text": [
      "  1%|          | 58/10000 [00:10<30:02,  5.52it/s]\n"
     ]
    },
    {
     "ename": "KeyboardInterrupt",
     "evalue": "",
     "output_type": "error",
     "traceback": [
      "\u001b[1;31m---------------------------------------------------------------------------\u001b[0m",
      "\u001b[1;31mKeyboardInterrupt\u001b[0m                         Traceback (most recent call last)",
      "Cell \u001b[1;32mIn[4], line 26\u001b[0m\n\u001b[0;32m     22\u001b[0m     X\u001b[38;5;241m.\u001b[39mappend(time_series)\n\u001b[0;32m     24\u001b[0m y \u001b[38;5;241m=\u001b[39m bernoulli\u001b[38;5;241m.\u001b[39mrvs(p\u001b[38;5;241m=\u001b[39m\u001b[38;5;241m0.5\u001b[39m, size\u001b[38;5;241m=\u001b[39mn)\n\u001b[1;32m---> 26\u001b[0m sm_model \u001b[38;5;241m=\u001b[39m \u001b[43msm\u001b[49m\u001b[38;5;241;43m.\u001b[39;49m\u001b[43mLogit\u001b[49m\u001b[43m(\u001b[49m\u001b[43my\u001b[49m\u001b[43m,\u001b[49m\u001b[43m \u001b[49m\u001b[43msm\u001b[49m\u001b[38;5;241;43m.\u001b[39;49m\u001b[43madd_constant\u001b[49m\u001b[43m(\u001b[49m\u001b[43mX\u001b[49m\u001b[43m)\u001b[49m\u001b[43m)\u001b[49m\u001b[38;5;241;43m.\u001b[39;49m\u001b[43mfit\u001b[49m\u001b[43m(\u001b[49m\u001b[43mdisp\u001b[49m\u001b[38;5;241;43m=\u001b[39;49m\u001b[38;5;241;43m0\u001b[39;49m\u001b[43m)\u001b[49m\n\u001b[0;32m     27\u001b[0m \u001b[38;5;66;03m#print(sm_model.pvalues)\u001b[39;00m\n\u001b[0;32m     28\u001b[0m p_value \u001b[38;5;241m=\u001b[39m np\u001b[38;5;241m.\u001b[39maverage(sm_model\u001b[38;5;241m.\u001b[39mpvalues)\n",
      "File \u001b[1;32mc:\\Users\\Martijn\\Documents\\Python projects\\Maastricht University\\ComputationalStatisticsKEN4258-ASG2\\.venv\\Lib\\site-packages\\statsmodels\\discrete\\discrete_model.py:2601\u001b[0m, in \u001b[0;36mLogit.fit\u001b[1;34m(self, start_params, method, maxiter, full_output, disp, callback, **kwargs)\u001b[0m\n\u001b[0;32m   2598\u001b[0m \u001b[38;5;129m@Appender\u001b[39m(DiscreteModel\u001b[38;5;241m.\u001b[39mfit\u001b[38;5;241m.\u001b[39m\u001b[38;5;18m__doc__\u001b[39m)\n\u001b[0;32m   2599\u001b[0m \u001b[38;5;28;01mdef\u001b[39;00m \u001b[38;5;21mfit\u001b[39m(\u001b[38;5;28mself\u001b[39m, start_params\u001b[38;5;241m=\u001b[39m\u001b[38;5;28;01mNone\u001b[39;00m, method\u001b[38;5;241m=\u001b[39m\u001b[38;5;124m'\u001b[39m\u001b[38;5;124mnewton\u001b[39m\u001b[38;5;124m'\u001b[39m, maxiter\u001b[38;5;241m=\u001b[39m\u001b[38;5;241m35\u001b[39m,\n\u001b[0;32m   2600\u001b[0m         full_output\u001b[38;5;241m=\u001b[39m\u001b[38;5;241m1\u001b[39m, disp\u001b[38;5;241m=\u001b[39m\u001b[38;5;241m1\u001b[39m, callback\u001b[38;5;241m=\u001b[39m\u001b[38;5;28;01mNone\u001b[39;00m, \u001b[38;5;241m*\u001b[39m\u001b[38;5;241m*\u001b[39mkwargs):\n\u001b[1;32m-> 2601\u001b[0m     bnryfit \u001b[38;5;241m=\u001b[39m \u001b[38;5;28;43msuper\u001b[39;49m\u001b[43m(\u001b[49m\u001b[43m)\u001b[49m\u001b[38;5;241;43m.\u001b[39;49m\u001b[43mfit\u001b[49m\u001b[43m(\u001b[49m\u001b[43mstart_params\u001b[49m\u001b[38;5;241;43m=\u001b[39;49m\u001b[43mstart_params\u001b[49m\u001b[43m,\u001b[49m\n\u001b[0;32m   2602\u001b[0m \u001b[43m                          \u001b[49m\u001b[43mmethod\u001b[49m\u001b[38;5;241;43m=\u001b[39;49m\u001b[43mmethod\u001b[49m\u001b[43m,\u001b[49m\n\u001b[0;32m   2603\u001b[0m \u001b[43m                          \u001b[49m\u001b[43mmaxiter\u001b[49m\u001b[38;5;241;43m=\u001b[39;49m\u001b[43mmaxiter\u001b[49m\u001b[43m,\u001b[49m\n\u001b[0;32m   2604\u001b[0m \u001b[43m                          \u001b[49m\u001b[43mfull_output\u001b[49m\u001b[38;5;241;43m=\u001b[39;49m\u001b[43mfull_output\u001b[49m\u001b[43m,\u001b[49m\n\u001b[0;32m   2605\u001b[0m \u001b[43m                          \u001b[49m\u001b[43mdisp\u001b[49m\u001b[38;5;241;43m=\u001b[39;49m\u001b[43mdisp\u001b[49m\u001b[43m,\u001b[49m\n\u001b[0;32m   2606\u001b[0m \u001b[43m                          \u001b[49m\u001b[43mcallback\u001b[49m\u001b[38;5;241;43m=\u001b[39;49m\u001b[43mcallback\u001b[49m\u001b[43m,\u001b[49m\n\u001b[0;32m   2607\u001b[0m \u001b[43m                          \u001b[49m\u001b[38;5;241;43m*\u001b[39;49m\u001b[38;5;241;43m*\u001b[39;49m\u001b[43mkwargs\u001b[49m\u001b[43m)\u001b[49m\n\u001b[0;32m   2609\u001b[0m     discretefit \u001b[38;5;241m=\u001b[39m LogitResults(\u001b[38;5;28mself\u001b[39m, bnryfit)\n\u001b[0;32m   2610\u001b[0m     \u001b[38;5;28;01mreturn\u001b[39;00m BinaryResultsWrapper(discretefit)\n",
      "File \u001b[1;32mc:\\Users\\Martijn\\Documents\\Python projects\\Maastricht University\\ComputationalStatisticsKEN4258-ASG2\\.venv\\Lib\\site-packages\\statsmodels\\discrete\\discrete_model.py:243\u001b[0m, in \u001b[0;36mDiscreteModel.fit\u001b[1;34m(self, start_params, method, maxiter, full_output, disp, callback, **kwargs)\u001b[0m\n\u001b[0;32m    240\u001b[0m \u001b[38;5;28;01melse\u001b[39;00m:\n\u001b[0;32m    241\u001b[0m     \u001b[38;5;28;01mpass\u001b[39;00m  \u001b[38;5;66;03m# TODO: make a function factory to have multiple call-backs\u001b[39;00m\n\u001b[1;32m--> 243\u001b[0m mlefit \u001b[38;5;241m=\u001b[39m \u001b[38;5;28;43msuper\u001b[39;49m\u001b[43m(\u001b[49m\u001b[43m)\u001b[49m\u001b[38;5;241;43m.\u001b[39;49m\u001b[43mfit\u001b[49m\u001b[43m(\u001b[49m\u001b[43mstart_params\u001b[49m\u001b[38;5;241;43m=\u001b[39;49m\u001b[43mstart_params\u001b[49m\u001b[43m,\u001b[49m\n\u001b[0;32m    244\u001b[0m \u001b[43m                     \u001b[49m\u001b[43mmethod\u001b[49m\u001b[38;5;241;43m=\u001b[39;49m\u001b[43mmethod\u001b[49m\u001b[43m,\u001b[49m\n\u001b[0;32m    245\u001b[0m \u001b[43m                     \u001b[49m\u001b[43mmaxiter\u001b[49m\u001b[38;5;241;43m=\u001b[39;49m\u001b[43mmaxiter\u001b[49m\u001b[43m,\u001b[49m\n\u001b[0;32m    246\u001b[0m \u001b[43m                     \u001b[49m\u001b[43mfull_output\u001b[49m\u001b[38;5;241;43m=\u001b[39;49m\u001b[43mfull_output\u001b[49m\u001b[43m,\u001b[49m\n\u001b[0;32m    247\u001b[0m \u001b[43m                     \u001b[49m\u001b[43mdisp\u001b[49m\u001b[38;5;241;43m=\u001b[39;49m\u001b[43mdisp\u001b[49m\u001b[43m,\u001b[49m\n\u001b[0;32m    248\u001b[0m \u001b[43m                     \u001b[49m\u001b[43mcallback\u001b[49m\u001b[38;5;241;43m=\u001b[39;49m\u001b[43mcallback\u001b[49m\u001b[43m,\u001b[49m\n\u001b[0;32m    249\u001b[0m \u001b[43m                     \u001b[49m\u001b[38;5;241;43m*\u001b[39;49m\u001b[38;5;241;43m*\u001b[39;49m\u001b[43mkwargs\u001b[49m\u001b[43m)\u001b[49m\n\u001b[0;32m    251\u001b[0m \u001b[38;5;28;01mreturn\u001b[39;00m mlefit\n",
      "File \u001b[1;32mc:\\Users\\Martijn\\Documents\\Python projects\\Maastricht University\\ComputationalStatisticsKEN4258-ASG2\\.venv\\Lib\\site-packages\\statsmodels\\base\\model.py:566\u001b[0m, in \u001b[0;36mLikelihoodModel.fit\u001b[1;34m(self, start_params, method, maxiter, full_output, disp, fargs, callback, retall, skip_hessian, **kwargs)\u001b[0m\n\u001b[0;32m    563\u001b[0m     \u001b[38;5;28;01mdel\u001b[39;00m kwargs[\u001b[38;5;124m\"\u001b[39m\u001b[38;5;124muse_t\u001b[39m\u001b[38;5;124m\"\u001b[39m]\n\u001b[0;32m    565\u001b[0m optimizer \u001b[38;5;241m=\u001b[39m Optimizer()\n\u001b[1;32m--> 566\u001b[0m xopt, retvals, optim_settings \u001b[38;5;241m=\u001b[39m \u001b[43moptimizer\u001b[49m\u001b[38;5;241;43m.\u001b[39;49m\u001b[43m_fit\u001b[49m\u001b[43m(\u001b[49m\u001b[43mf\u001b[49m\u001b[43m,\u001b[49m\u001b[43m \u001b[49m\u001b[43mscore\u001b[49m\u001b[43m,\u001b[49m\u001b[43m \u001b[49m\u001b[43mstart_params\u001b[49m\u001b[43m,\u001b[49m\n\u001b[0;32m    567\u001b[0m \u001b[43m                                               \u001b[49m\u001b[43mfargs\u001b[49m\u001b[43m,\u001b[49m\u001b[43m \u001b[49m\u001b[43mkwargs\u001b[49m\u001b[43m,\u001b[49m\n\u001b[0;32m    568\u001b[0m \u001b[43m                                               \u001b[49m\u001b[43mhessian\u001b[49m\u001b[38;5;241;43m=\u001b[39;49m\u001b[43mhess\u001b[49m\u001b[43m,\u001b[49m\n\u001b[0;32m    569\u001b[0m \u001b[43m                                               \u001b[49m\u001b[43mmethod\u001b[49m\u001b[38;5;241;43m=\u001b[39;49m\u001b[43mmethod\u001b[49m\u001b[43m,\u001b[49m\n\u001b[0;32m    570\u001b[0m \u001b[43m                                               \u001b[49m\u001b[43mdisp\u001b[49m\u001b[38;5;241;43m=\u001b[39;49m\u001b[43mdisp\u001b[49m\u001b[43m,\u001b[49m\n\u001b[0;32m    571\u001b[0m \u001b[43m                                               \u001b[49m\u001b[43mmaxiter\u001b[49m\u001b[38;5;241;43m=\u001b[39;49m\u001b[43mmaxiter\u001b[49m\u001b[43m,\u001b[49m\n\u001b[0;32m    572\u001b[0m \u001b[43m                                               \u001b[49m\u001b[43mcallback\u001b[49m\u001b[38;5;241;43m=\u001b[39;49m\u001b[43mcallback\u001b[49m\u001b[43m,\u001b[49m\n\u001b[0;32m    573\u001b[0m \u001b[43m                                               \u001b[49m\u001b[43mretall\u001b[49m\u001b[38;5;241;43m=\u001b[39;49m\u001b[43mretall\u001b[49m\u001b[43m,\u001b[49m\n\u001b[0;32m    574\u001b[0m \u001b[43m                                               \u001b[49m\u001b[43mfull_output\u001b[49m\u001b[38;5;241;43m=\u001b[39;49m\u001b[43mfull_output\u001b[49m\u001b[43m)\u001b[49m\n\u001b[0;32m    575\u001b[0m \u001b[38;5;66;03m# Restore cov_type, cov_kwds and use_t\u001b[39;00m\n\u001b[0;32m    576\u001b[0m optim_settings\u001b[38;5;241m.\u001b[39mupdate(kwds)\n",
      "File \u001b[1;32mc:\\Users\\Martijn\\Documents\\Python projects\\Maastricht University\\ComputationalStatisticsKEN4258-ASG2\\.venv\\Lib\\site-packages\\statsmodels\\base\\optimizer.py:242\u001b[0m, in \u001b[0;36mOptimizer._fit\u001b[1;34m(self, objective, gradient, start_params, fargs, kwargs, hessian, method, maxiter, full_output, disp, callback, retall)\u001b[0m\n\u001b[0;32m    239\u001b[0m     fit_funcs\u001b[38;5;241m.\u001b[39mupdate(extra_fit_funcs)\n\u001b[0;32m    241\u001b[0m func \u001b[38;5;241m=\u001b[39m fit_funcs[method]\n\u001b[1;32m--> 242\u001b[0m xopt, retvals \u001b[38;5;241m=\u001b[39m \u001b[43mfunc\u001b[49m\u001b[43m(\u001b[49m\u001b[43mobjective\u001b[49m\u001b[43m,\u001b[49m\u001b[43m \u001b[49m\u001b[43mgradient\u001b[49m\u001b[43m,\u001b[49m\u001b[43m \u001b[49m\u001b[43mstart_params\u001b[49m\u001b[43m,\u001b[49m\u001b[43m \u001b[49m\u001b[43mfargs\u001b[49m\u001b[43m,\u001b[49m\u001b[43m \u001b[49m\u001b[43mkwargs\u001b[49m\u001b[43m,\u001b[49m\n\u001b[0;32m    243\u001b[0m \u001b[43m                     \u001b[49m\u001b[43mdisp\u001b[49m\u001b[38;5;241;43m=\u001b[39;49m\u001b[43mdisp\u001b[49m\u001b[43m,\u001b[49m\u001b[43m \u001b[49m\u001b[43mmaxiter\u001b[49m\u001b[38;5;241;43m=\u001b[39;49m\u001b[43mmaxiter\u001b[49m\u001b[43m,\u001b[49m\u001b[43m \u001b[49m\u001b[43mcallback\u001b[49m\u001b[38;5;241;43m=\u001b[39;49m\u001b[43mcallback\u001b[49m\u001b[43m,\u001b[49m\n\u001b[0;32m    244\u001b[0m \u001b[43m                     \u001b[49m\u001b[43mretall\u001b[49m\u001b[38;5;241;43m=\u001b[39;49m\u001b[43mretall\u001b[49m\u001b[43m,\u001b[49m\u001b[43m \u001b[49m\u001b[43mfull_output\u001b[49m\u001b[38;5;241;43m=\u001b[39;49m\u001b[43mfull_output\u001b[49m\u001b[43m,\u001b[49m\n\u001b[0;32m    245\u001b[0m \u001b[43m                     \u001b[49m\u001b[43mhess\u001b[49m\u001b[38;5;241;43m=\u001b[39;49m\u001b[43mhessian\u001b[49m\u001b[43m)\u001b[49m\n\u001b[0;32m    247\u001b[0m optim_settings \u001b[38;5;241m=\u001b[39m {\u001b[38;5;124m'\u001b[39m\u001b[38;5;124moptimizer\u001b[39m\u001b[38;5;124m'\u001b[39m: method, \u001b[38;5;124m'\u001b[39m\u001b[38;5;124mstart_params\u001b[39m\u001b[38;5;124m'\u001b[39m: start_params,\n\u001b[0;32m    248\u001b[0m                   \u001b[38;5;124m'\u001b[39m\u001b[38;5;124mmaxiter\u001b[39m\u001b[38;5;124m'\u001b[39m: maxiter, \u001b[38;5;124m'\u001b[39m\u001b[38;5;124mfull_output\u001b[39m\u001b[38;5;124m'\u001b[39m: full_output,\n\u001b[0;32m    249\u001b[0m                   \u001b[38;5;124m'\u001b[39m\u001b[38;5;124mdisp\u001b[39m\u001b[38;5;124m'\u001b[39m: disp, \u001b[38;5;124m'\u001b[39m\u001b[38;5;124mfargs\u001b[39m\u001b[38;5;124m'\u001b[39m: fargs, \u001b[38;5;124m'\u001b[39m\u001b[38;5;124mcallback\u001b[39m\u001b[38;5;124m'\u001b[39m: callback,\n\u001b[0;32m    250\u001b[0m                   \u001b[38;5;124m'\u001b[39m\u001b[38;5;124mretall\u001b[39m\u001b[38;5;124m'\u001b[39m: retall, \u001b[38;5;124m\"\u001b[39m\u001b[38;5;124mextra_fit_funcs\u001b[39m\u001b[38;5;124m\"\u001b[39m: extra_fit_funcs}\n\u001b[0;32m    251\u001b[0m optim_settings\u001b[38;5;241m.\u001b[39mupdate(kwargs)\n",
      "File \u001b[1;32mc:\\Users\\Martijn\\Documents\\Python projects\\Maastricht University\\ComputationalStatisticsKEN4258-ASG2\\.venv\\Lib\\site-packages\\statsmodels\\base\\optimizer.py:451\u001b[0m, in \u001b[0;36m_fit_newton\u001b[1;34m(f, score, start_params, fargs, kwargs, disp, maxiter, callback, retall, full_output, hess, ridge_factor)\u001b[0m\n\u001b[0;32m    449\u001b[0m         history\u001b[38;5;241m.\u001b[39mappend(newparams)\n\u001b[0;32m    450\u001b[0m     \u001b[38;5;28;01mif\u001b[39;00m callback \u001b[38;5;129;01mis\u001b[39;00m \u001b[38;5;129;01mnot\u001b[39;00m \u001b[38;5;28;01mNone\u001b[39;00m:\n\u001b[1;32m--> 451\u001b[0m         \u001b[43mcallback\u001b[49m\u001b[43m(\u001b[49m\u001b[43mnewparams\u001b[49m\u001b[43m)\u001b[49m\n\u001b[0;32m    452\u001b[0m     iterations \u001b[38;5;241m+\u001b[39m\u001b[38;5;241m=\u001b[39m \u001b[38;5;241m1\u001b[39m\n\u001b[0;32m    453\u001b[0m fval \u001b[38;5;241m=\u001b[39m f(newparams, \u001b[38;5;241m*\u001b[39mfargs)  \u001b[38;5;66;03m# this is the negative likelihood\u001b[39;00m\n",
      "File \u001b[1;32mc:\\Users\\Martijn\\Documents\\Python projects\\Maastricht University\\ComputationalStatisticsKEN4258-ASG2\\.venv\\Lib\\site-packages\\statsmodels\\discrete\\discrete_model.py:218\u001b[0m, in \u001b[0;36mDiscreteModel._check_perfect_pred\u001b[1;34m(self, params, *args)\u001b[0m\n\u001b[0;32m    216\u001b[0m \u001b[38;5;28;01mdef\u001b[39;00m \u001b[38;5;21m_check_perfect_pred\u001b[39m(\u001b[38;5;28mself\u001b[39m, params, \u001b[38;5;241m*\u001b[39margs):\n\u001b[0;32m    217\u001b[0m     endog \u001b[38;5;241m=\u001b[39m \u001b[38;5;28mself\u001b[39m\u001b[38;5;241m.\u001b[39mendog\n\u001b[1;32m--> 218\u001b[0m     fittedvalues \u001b[38;5;241m=\u001b[39m \u001b[38;5;28;43mself\u001b[39;49m\u001b[38;5;241;43m.\u001b[39;49m\u001b[43mpredict\u001b[49m\u001b[43m(\u001b[49m\u001b[43mparams\u001b[49m\u001b[43m)\u001b[49m\n\u001b[0;32m    219\u001b[0m     \u001b[38;5;28;01mif\u001b[39;00m np\u001b[38;5;241m.\u001b[39mallclose(fittedvalues \u001b[38;5;241m-\u001b[39m endog, \u001b[38;5;241m0\u001b[39m):\n\u001b[0;32m    220\u001b[0m         \u001b[38;5;28;01mif\u001b[39;00m \u001b[38;5;28mself\u001b[39m\u001b[38;5;241m.\u001b[39mraise_on_perfect_prediction:\n\u001b[0;32m    221\u001b[0m             \u001b[38;5;66;03m# backwards compatibility for attr raise_on_perfect_prediction\u001b[39;00m\n",
      "File \u001b[1;32mc:\\Users\\Martijn\\Documents\\Python projects\\Maastricht University\\ComputationalStatisticsKEN4258-ASG2\\.venv\\Lib\\site-packages\\statsmodels\\discrete\\discrete_model.py:543\u001b[0m, in \u001b[0;36mBinaryModel.predict\u001b[1;34m(self, params, exog, which, linear, offset)\u001b[0m\n\u001b[0;32m    540\u001b[0m \u001b[38;5;28;01mif\u001b[39;00m exog \u001b[38;5;129;01mis\u001b[39;00m \u001b[38;5;28;01mNone\u001b[39;00m:\n\u001b[0;32m    541\u001b[0m     exog \u001b[38;5;241m=\u001b[39m \u001b[38;5;28mself\u001b[39m\u001b[38;5;241m.\u001b[39mexog\n\u001b[1;32m--> 543\u001b[0m linpred \u001b[38;5;241m=\u001b[39m \u001b[43mnp\u001b[49m\u001b[38;5;241;43m.\u001b[39;49m\u001b[43mdot\u001b[49m\u001b[43m(\u001b[49m\u001b[43mexog\u001b[49m\u001b[43m,\u001b[49m\u001b[43m \u001b[49m\u001b[43mparams\u001b[49m\u001b[43m)\u001b[49m \u001b[38;5;241m+\u001b[39m offset\n\u001b[0;32m    545\u001b[0m \u001b[38;5;28;01mif\u001b[39;00m which \u001b[38;5;241m==\u001b[39m \u001b[38;5;124m\"\u001b[39m\u001b[38;5;124mmean\u001b[39m\u001b[38;5;124m\"\u001b[39m:\n\u001b[0;32m    546\u001b[0m     \u001b[38;5;28;01mreturn\u001b[39;00m \u001b[38;5;28mself\u001b[39m\u001b[38;5;241m.\u001b[39mcdf(linpred)\n",
      "\u001b[1;31mKeyboardInterrupt\u001b[0m: "
     ]
    }
   ],
   "source": [
    "from scipy.stats import bernoulli\n",
    "#from sklearn.linear_model import LogisticRegression\n",
    "from statsmodels.tsa.arima_process import ArmaProcess\n",
    "from tqdm import tqdm\n",
    "import statsmodels.api as sm\n",
    "\n",
    "# Set the AR coefficient\n",
    "ar_coefficient = 0.5\n",
    "p = 200\n",
    "n = 500\n",
    "replications = 10000\n",
    "\n",
    "# Calculate the p-values for each run\n",
    "p_values = []\n",
    "for i in tqdm(range(replications)):\n",
    "    # Generate the AR(1) time series\n",
    "    ar_process = ArmaProcess(ar=[1, -ar_coefficient])\n",
    "\n",
    "    X = []\n",
    "    for j in range(n):\n",
    "        time_series = ar_process.generate_sample(nsample=p)\n",
    "        X.append(time_series)\n",
    "\n",
    "    y = bernoulli.rvs(p=0.5, size=n)\n",
    "\n",
    "    sm_model = sm.Logit(y, sm.add_constant(X)).fit(disp=0)\n",
    "    #print(sm_model.pvalues)\n",
    "    p_value = np.average(sm_model.pvalues)\n",
    "    p_values.append(p_value)\n",
    "\n",
    "# Show a histogram of the p-values\n",
    "import matplotlib.pyplot as plt\n",
    "plt.hist(p_values, bins=20) #paper has 20 bins\n",
    "plt.xlabel('p-values')\n",
    "plt.ylabel('Frequency')\n",
    "plt.title('Histogram of p-values')\n",
    "plt.show()\n"
   ]
  },
  {
   "cell_type": "code",
   "execution_count": 1,
   "metadata": {},
   "outputs": [
    {
     "name": "stderr",
     "output_type": "stream",
     "text": [
      "100%|██████████| 10000/10000 [26:01<00:00,  6.40it/s] \n"
     ]
    },
    {
     "data": {
      "image/png": "[encoded data removed]",
      "text/plain": [
       "<Figure size 640x480 with 1 Axes>"
      ]
     },
     "metadata": {},
     "output_type": "display_data"
    }
   ],
   "source": [
    "from scipy.stats import bernoulli\n",
    "from statsmodels.tsa.arima_process import ArmaProcess\n",
    "from tqdm import tqdm\n",
    "import matplotlib.pyplot as plt\n",
    "from statsmodels.discrete.discrete_model import Logit\n",
    "from statsmodels.tools.tools import add_constant\n",
    "import numpy as np\n",
    "\n",
    "\n",
    "# Set the AR coefficient\n",
    "ar_coefficient = 0.5\n",
    "p = 200\n",
    "n = 500\n",
    "replications = 10000\n",
    "\n",
    "# Calculate the p-values for each run\n",
    "p_values = []\n",
    "for i in tqdm(range(replications)):\n",
    "    # Generate the AR(1) time series\n",
    "    ar_process = ArmaProcess(ar=[1, -ar_coefficient])\n",
    "\n",
    "    X = []\n",
    "    for j in range(n):\n",
    "        time_series = ar_process.generate_sample(nsample=p)\n",
    "        X.append(time_series)\n",
    "\n",
    "    y = bernoulli.rvs(p=0.5, size=n)\n",
    "\n",
    "    #sm_model = Logit(y, X).fit(disp=0) #like 1h?\n",
    "    sm_model = Logit(y, add_constant(X)).fit(disp=0) #like 30min\n",
    "    #print(sm_model.pvalues)\n",
    "    p_value = np.average(sm_model.pvalues)\n",
    "    p_values.append(p_value)\n",
    "\n",
    "# Show a histogram of the p-values\n",
    "plt.hist(p_values, bins=20) #paper has 20 bins\n",
    "plt.xlabel('p-values')\n",
    "plt.ylabel('Frequency')\n",
    "plt.title('Histogram of p-values')\n",
    "plt.show()"
   ]
  }
 ],
 "metadata": {
  "kernelspec": {
   "display_name": ".venv",
   "language": "python",
   "name": "python3"
  },
  "language_info": {
   "codemirror_mode": {
    "name": "ipython",
    "version": 3
   },
   "file_extension": ".py",
   "mimetype": "text/x-python",
   "name": "python",
   "nbconvert_exporter": "python",
   "pygments_lexer": "ipython3",
   "version": "3.12.1"
  }
 },
 "nbformat": 4,
 "nbformat_minor": 2
}
