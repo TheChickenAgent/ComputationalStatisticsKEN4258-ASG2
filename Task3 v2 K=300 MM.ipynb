{
 "cells": [
  {
   "cell_type": "markdown",
   "id": "899cb970",
   "metadata": {
    "papermill": {
     "duration": 0.002968,
     "end_time": "2024-03-21T21:27:50.870469",
     "exception": false,
     "start_time": "2024-03-21T21:27:50.867501",
     "status": "completed"
    },
    "tags": []
   },
   "source": [
    "### Task 3\n",
    "\n",
    "Propose a solution to address the problem. You can implement conditional randomization test (Candès et al. 2018), another existing method, or come up with your own idea."
   ]
  },
  {
   "cell_type": "code",
   "execution_count": 1,
   "id": "babc401b",
   "metadata": {
    "ExecuteTime": {
     "end_time": "2024-03-20T20:00:11.424110Z",
     "start_time": "2024-03-20T20:00:11.418819Z"
    },
    "execution": {
     "iopub.execute_input": "2024-03-21T21:27:50.878685Z",
     "iopub.status.busy": "2024-03-21T21:27:50.877371Z",
     "iopub.status.idle": "2024-03-21T21:27:52.587675Z",
     "shell.execute_reply": "2024-03-21T21:27:52.586382Z"
    },
    "papermill": {
     "duration": 1.71744,
     "end_time": "2024-03-21T21:27:52.590733",
     "exception": false,
     "start_time": "2024-03-21T21:27:50.873293",
     "status": "completed"
    },
    "tags": []
   },
   "outputs": [],
   "source": [
    "import random\n",
    "import numpy as np\n",
    "from sklearn.feature_selection import mutual_info_classif\n",
    "\n",
    "def test_statistic(X, y):\n",
    "    matrix_multiplication = X[:, 0] @ y #np.transpose(X) @ y\n",
    "    #matrix_multiplication = np.matmul(np.transpose(X), y)\n",
    "    return matrix_multiplication\n",
    "\n",
    "#def test_statistic(X, y):\n",
    "#    mi_scores = mutual_info_classif(X, y, discrete_features=False)\n",
    "#    return mi_scores\n",
    "\n",
    "\n",
    "\n",
    "def adjusted_p_value(X, y, test_statistic, j, K):\n",
    "    X = np.array(X)\n",
    "    org_X = X.copy()\n",
    "    summation = []\n",
    "    for k in range(K):\n",
    "        for n in range(X.shape[0]):\n",
    "            possible_samples = np.append(X[n][:j], X[n][j+1:])\n",
    "            #print(possible_samples.size) == 199\n",
    "            sample = random.choice(possible_samples)\n",
    "            X[n][j] = sample\n",
    "\n",
    "        #print(test_statistic(X, y) > test_statistic(org_X, y))\n",
    "        summation.append(1 if np.sum(test_statistic(X, y)) > np.sum(test_statistic(org_X, y)) else 0)\n",
    "        #summation.append(1 if test_statistic(X[:, 0].reshape(-1, 1), y)[0] > test_statistic(org_X[:, 0].reshape(-1, 1), y)[0] else 0)\n",
    "    adjusted_p_value = 1/(K+1) * (1 + np.sum(summation))\n",
    "\n",
    "    return adjusted_p_value"
   ]
  },
  {
   "cell_type": "code",
   "execution_count": 2,
   "id": "1e896e66",
   "metadata": {
    "ExecuteTime": {
     "end_time": "2024-03-20T20:01:03.939525Z",
     "start_time": "2024-03-20T20:00:11.430039Z"
    },
    "execution": {
     "iopub.execute_input": "2024-03-21T21:27:52.597138Z",
     "iopub.status.busy": "2024-03-21T21:27:52.596578Z",
     "iopub.status.idle": "2024-03-21T23:36:37.259110Z",
     "shell.execute_reply": "2024-03-21T23:36:37.257542Z"
    },
    "papermill": {
     "duration": 7724.669183,
     "end_time": "2024-03-21T23:36:37.262379",
     "exception": false,
     "start_time": "2024-03-21T21:27:52.593196",
     "status": "completed"
    },
    "tags": []
   },
   "outputs": [
    {
     "name": "stderr",
     "output_type": "stream",
     "text": [
      "100%|██████████| 10000/10000 [2:08:43<00:00,  1.29it/s]\n"
     ]
    }
   ],
   "source": [
    "from scipy.stats import bernoulli\n",
    "from statsmodels.tsa.arima_process import ArmaProcess\n",
    "from tqdm import tqdm\n",
    "from statsmodels.discrete.discrete_model import Logit\n",
    "from statsmodels.tools.tools import add_constant\n",
    "import pandas as pd\n",
    "\n",
    "np.random.seed(21)\n",
    "\n",
    "# Set the AR coefficient\n",
    "ar_coefficient = 0.5\n",
    "p = 200\n",
    "n = 500\n",
    "replications = 10000\n",
    "K = 300\n",
    "\n",
    "p_values = []\n",
    "\n",
    "# Generate the AR(1) time series\n",
    "ar_process = ArmaProcess(ar=[1, -ar_coefficient])\n",
    "\n",
    "# Calculate the p-values for each run\n",
    "for i in tqdm(range(replications)):\n",
    "\n",
    "    X = []\n",
    "    for j in range(n):\n",
    "        time_series = ar_process.generate_sample(nsample=p)\n",
    "        X.append(time_series)\n",
    "\n",
    "    y = bernoulli.rvs(p=0.5, size=n)\n",
    "\n",
    "    p_values_adjusted = adjusted_p_value(X, y, test_statistic, 0, K)\n",
    "    p_values.append(p_values_adjusted)\n",
    "\n",
    "df = pd.DataFrame({\"adjusted p-values\": p_values})\n",
    "\n",
    "df.to_csv(\"p_values_adj.csv\", index=False)"
   ]
  },
  {
   "cell_type": "code",
   "execution_count": 3,
   "id": "0cc9c930",
   "metadata": {
    "execution": {
     "iopub.execute_input": "2024-03-21T23:36:38.722163Z",
     "iopub.status.busy": "2024-03-21T23:36:38.721290Z",
     "iopub.status.idle": "2024-03-21T23:36:39.089205Z",
     "shell.execute_reply": "2024-03-21T23:36:39.087844Z"
    },
    "papermill": {
     "duration": 1.160834,
     "end_time": "2024-03-21T23:36:39.092389",
     "exception": false,
     "start_time": "2024-03-21T23:36:37.931555",
     "status": "completed"
    },
    "tags": []
   },
   "outputs": [
    {
     "data": {
      "image/png": "[encoded data removed]",
      "text/plain": [
       "<Figure size 640x480 with 1 Axes>"
      ]
     },
     "metadata": {},
     "output_type": "display_data"
    }
   ],
   "source": [
    "from statsmodels.stats.multitest import multipletests\n",
    "import numpy as np\n",
    "import matplotlib.pyplot as plt\n",
    "\n",
    "# Show a histogram of the p-values\n",
    "plt.hist(p_values, bins=20) #paper has 20 bins\n",
    "plt.xlabel('adjusted p-values')\n",
    "plt.ylabel('Frequency')\n",
    "plt.title('Histogram of adjusted p-values')\n",
    "#plt.ylim((0, 2000))\n",
    "plt.show()"
   ]
  }
 ],
 "metadata": {
  "kaggle": {
   "accelerator": "none",
   "dataSources": [],
   "dockerImageVersionId": 30664,
   "isGpuEnabled": false,
   "isInternetEnabled": true,
   "language": "python",
   "sourceType": "notebook"
  },
  "kernelspec": {
   "display_name": "Python 3",
   "language": "python",
   "name": "python3"
  },
  "language_info": {
   "codemirror_mode": {
    "name": "ipython",
    "version": 3
   },
   "file_extension": ".py",
   "mimetype": "text/x-python",
   "name": "python",
   "nbconvert_exporter": "python",
   "pygments_lexer": "ipython3",
   "version": "3.12.1"
  },
  "papermill": {
   "default_parameters": {},
   "duration": 7732.891041,
   "end_time": "2024-03-21T23:36:40.811682",
   "environment_variables": {},
   "exception": null,
   "input_path": "__notebook__.ipynb",
   "output_path": "__notebook__.ipynb",
   "parameters": {},
   "start_time": "2024-03-21T21:27:47.920641",
   "version": "2.5.0"
  }
 },
 "nbformat": 4,
 "nbformat_minor": 5
}
