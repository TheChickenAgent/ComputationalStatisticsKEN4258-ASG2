{
 "cells": [
  {
   "cell_type": "markdown",
   "id": "8c4a1ca4",
   "metadata": {
    "papermill": {
     "duration": 0.003114,
     "end_time": "2024-03-19T18:27:07.659155",
     "exception": false,
     "start_time": "2024-03-19T18:27:07.656041",
     "status": "completed"
    },
    "tags": []
   },
   "source": [
    "### Task 3\n",
    "\n",
    "Propose a solution to address the problem. You can implement conditional randomization test (Candès et al. 2018), another existing method, or come up with your own idea."
   ]
  },
  {
   "cell_type": "code",
   "execution_count": 1,
   "id": "dd9a80f2",
   "metadata": {
    "execution": {
     "iopub.execute_input": "2024-03-19T18:27:07.666976Z",
     "iopub.status.busy": "2024-03-19T18:27:07.666277Z",
     "iopub.status.idle": "2024-03-19T18:27:07.683867Z",
     "shell.execute_reply": "2024-03-19T18:27:07.682060Z"
    },
    "papermill": {
     "duration": 0.024723,
     "end_time": "2024-03-19T18:27:07.686684",
     "exception": false,
     "start_time": "2024-03-19T18:27:07.661961",
     "status": "completed"
    },
    "tags": []
   },
   "outputs": [],
   "source": [
    "import random\n",
    "import numpy as np\n",
    "#from sklearn.feature_selection import mutual_info_classif\n",
    "\n",
    "def test_statistic(X, y):\n",
    "    matrix_multiplication = np.transpose(X) @ y\n",
    "    #matrix_multiplication = np.matmul(np.transpose(X), y)\n",
    "    return matrix_multiplication\n",
    "\n",
    "#def test_statistic(X, y):\n",
    "#    mi_scores = mutual_info_classif(X, y)\n",
    "#    return mi_scores\n",
    "\n",
    "\n",
    "\n",
    "def adjusted_p_value(X, y, test_statistic, j, K):\n",
    "    X = np.array(X)\n",
    "    org_X = X.copy()\n",
    "    summation = []\n",
    "    for k in range(K):\n",
    "        for n in range(X.shape[0]):\n",
    "            possible_samples = np.append(X[n][:j], X[n][j+1:])\n",
    "            #print(possible_samples.size) == 199\n",
    "            sample = random.choice(possible_samples)\n",
    "            X[n][j] = sample\n",
    "\n",
    "        #print(test_statistic(X, y) > test_statistic(org_X, y))\n",
    "        summation.append(1 if np.sum(test_statistic(X, y)) > np.sum(test_statistic(org_X, y)) else 0)\n",
    "        #summation.append(1 if test_statistic(X, y)[j] > test_statistic(org_X, y)[j] else 0)\n",
    "    adjusted_p_value = 1/(K+1) * (1 + np.sum(summation))\n",
    "\n",
    "    return adjusted_p_value"
   ]
  },
  {
   "cell_type": "code",
   "execution_count": 2,
   "id": "e4bba4ac",
   "metadata": {
    "execution": {
     "iopub.execute_input": "2024-03-19T18:27:07.693917Z",
     "iopub.status.busy": "2024-03-19T18:27:07.693516Z",
     "iopub.status.idle": "2024-03-20T00:02:27.023272Z",
     "shell.execute_reply": "2024-03-20T00:02:27.021961Z"
    },
    "papermill": {
     "duration": 20119.336923,
     "end_time": "2024-03-20T00:02:27.026438",
     "exception": false,
     "start_time": "2024-03-19T18:27:07.689515",
     "status": "completed"
    },
    "tags": []
   },
   "outputs": [
    {
     "name": "stderr",
     "output_type": "stream",
     "text": [
      "100%|██████████| 1000/1000 [5:35:15<00:00, 20.12s/it]\n"
     ]
    }
   ],
   "source": [
    "from scipy.stats import bernoulli\n",
    "from statsmodels.tsa.arima_process import ArmaProcess\n",
    "from tqdm import tqdm\n",
    "from statsmodels.discrete.discrete_model import Logit\n",
    "from statsmodels.tools.tools import add_constant\n",
    "import pandas as pd\n",
    "\n",
    "np.random.seed(21)\n",
    "\n",
    "# Set the AR coefficient\n",
    "ar_coefficient = 0.5\n",
    "p = 200\n",
    "n = 500\n",
    "replications = 1000\n",
    "K = 10\n",
    "\n",
    "#intercept_p_values = []\n",
    "#x1_data_p_values = []\n",
    "p_values = []\n",
    "\n",
    "# Generate the AR(1) time series\n",
    "ar_process = ArmaProcess(ar=[1, -ar_coefficient])\n",
    "\n",
    "# Calculate the p-values for each run\n",
    "for i in tqdm(range(replications)):\n",
    "\n",
    "    X = []\n",
    "    for j in range(n):\n",
    "        time_series = ar_process.generate_sample(nsample=p)\n",
    "        X.append(time_series)\n",
    "\n",
    "    y = bernoulli.rvs(p=0.5, size=n)\n",
    "\n",
    "    for feature in range(p):\n",
    "        p_values_adjusted = adjusted_p_value(X, y, test_statistic, feature, K)\n",
    "        p_values.append(p_values_adjusted)\n",
    "\n",
    "df = pd.DataFrame({\"adjusted p-values\": p_values})\n",
    "\n",
    "df.to_csv(\"p_values_adj.csv\", index=False)"
   ]
  },
  {
   "cell_type": "code",
   "execution_count": 3,
   "id": "3b6a429f",
   "metadata": {
    "execution": {
     "iopub.execute_input": "2024-03-20T00:02:27.225360Z",
     "iopub.status.busy": "2024-03-20T00:02:27.224503Z",
     "iopub.status.idle": "2024-03-20T00:02:28.410475Z",
     "shell.execute_reply": "2024-03-20T00:02:28.409206Z"
    },
    "papermill": {
     "duration": 1.288446,
     "end_time": "2024-03-20T00:02:28.413334",
     "exception": false,
     "start_time": "2024-03-20T00:02:27.124888",
     "status": "completed"
    },
    "tags": []
   },
   "outputs": [
    {
     "data": {
      "image/png": "[encoded data removed]",
      "text/plain": [
       "<Figure size 640x480 with 1 Axes>"
      ]
     },
     "metadata": {},
     "output_type": "display_data"
    }
   ],
   "source": [
    "from statsmodels.stats.multitest import multipletests\n",
    "import numpy as np\n",
    "import matplotlib.pyplot as plt\n",
    "\n",
    "# Show a histogram of the p-values\n",
    "plt.hist(p_values, bins=20) #paper has 20 bins\n",
    "plt.xlabel('adjusted p-values')\n",
    "plt.ylabel('Frequency')\n",
    "plt.title('Histogram of adjusted p-values')\n",
    "#plt.ylim((0, 2000))\n",
    "plt.show()"
   ]
  }
 ],
 "metadata": {
  "kaggle": {
   "accelerator": "none",
   "dataSources": [],
   "dockerImageVersionId": 30664,
   "isGpuEnabled": false,
   "isInternetEnabled": true,
   "language": "python",
   "sourceType": "notebook"
  },
  "kernelspec": {
   "display_name": "Python 3",
   "language": "python",
   "name": "python3"
  },
  "language_info": {
   "codemirror_mode": {
    "name": "ipython",
    "version": 3
   },
   "file_extension": ".py",
   "mimetype": "text/x-python",
   "name": "python",
   "nbconvert_exporter": "python",
   "pygments_lexer": "ipython3",
   "version": "3.12.1"
  },
  "papermill": {
   "default_parameters": {},
   "duration": 20124.872598,
   "end_time": "2024-03-20T00:02:29.285750",
   "environment_variables": {},
   "exception": null,
   "input_path": "__notebook__.ipynb",
   "output_path": "__notebook__.ipynb",
   "parameters": {},
   "start_time": "2024-03-19T18:27:04.413152",
   "version": "2.5.0"
  }
 },
 "nbformat": 4,
 "nbformat_minor": 5
}
