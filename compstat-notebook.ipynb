{
 "cells": [
  {
   "cell_type": "markdown",
   "id": "740fba13",
   "metadata": {
    "papermill": {
     "duration": 0.003837,
     "end_time": "2024-03-19T10:46:33.366118",
     "exception": false,
     "start_time": "2024-03-19T10:46:33.362281",
     "status": "completed"
    },
    "tags": []
   },
   "source": [
    "## Task 1 - right part"
   ]
  },
  {
   "cell_type": "code",
   "execution_count": 1,
   "id": "754b8b9c",
   "metadata": {
    "ExecuteTime": {
     "end_time": "2024-03-19T09:48:58.905162Z",
     "start_time": "2024-03-19T09:48:58.901298Z"
    },
    "execution": {
     "iopub.execute_input": "2024-03-19T10:46:33.376447Z",
     "iopub.status.busy": "2024-03-19T10:46:33.374780Z",
     "iopub.status.idle": "2024-03-19T10:46:33.775911Z",
     "shell.execute_reply": "2024-03-19T10:46:33.774492Z"
    },
    "papermill": {
     "duration": 0.409488,
     "end_time": "2024-03-19T10:46:33.779106",
     "exception": false,
     "start_time": "2024-03-19T10:46:33.369618",
     "status": "completed"
    },
    "tags": []
   },
   "outputs": [],
   "source": [
    "import numpy as np\n",
    "from scipy.special import logit, expit\n",
    "\n",
    "\n",
    "def probability(X_non_zero):\n",
    "    assert len(X_non_zero) == 20\n",
    "    p = 0.08*np.sum(X_non_zero)\n",
    "    return expit(p)\n",
    "    #return logit(-p)\n",
    "    #return 1/(1+np.exp(-p))\n",
    "    #return np.log(p/(1-p))"
   ]
  },
  {
   "cell_type": "code",
   "execution_count": 2,
   "id": "d6dadf08",
   "metadata": {
    "ExecuteTime": {
     "end_time": "2024-03-19T10:42:59.792864Z",
     "start_time": "2024-03-19T10:41:31.938054Z"
    },
    "execution": {
     "iopub.execute_input": "2024-03-19T10:46:33.788484Z",
     "iopub.status.busy": "2024-03-19T10:46:33.788006Z",
     "iopub.status.idle": "2024-03-19T11:28:27.524988Z",
     "shell.execute_reply": "2024-03-19T11:28:27.522140Z"
    },
    "papermill": {
     "duration": 2513.745452,
     "end_time": "2024-03-19T11:28:27.528032",
     "exception": false,
     "start_time": "2024-03-19T10:46:33.782580",
     "status": "completed"
    },
    "tags": []
   },
   "outputs": [
    {
     "name": "stderr",
     "output_type": "stream",
     "text": [
      "  0%|          | 3/10000 [00:00<39:43,  4.19it/s]/opt/conda/lib/python3.10/site-packages/statsmodels/discrete/discrete_model.py:2385: RuntimeWarning: overflow encountered in exp\n",
      "  return 1/(1+np.exp(-X))\n",
      "/opt/conda/lib/python3.10/site-packages/statsmodels/discrete/discrete_model.py:2443: RuntimeWarning: divide by zero encountered in log\n",
      "  return np.sum(np.log(self.cdf(q * linpred)))\n",
      " 14%|█▍        | 1384/10000 [05:40<31:45,  4.52it/s]/opt/conda/lib/python3.10/site-packages/statsmodels/discrete/discrete_model.py:2385: RuntimeWarning: overflow encountered in exp\n",
      "  return 1/(1+np.exp(-X))\n",
      "/opt/conda/lib/python3.10/site-packages/statsmodels/discrete/discrete_model.py:2443: RuntimeWarning: divide by zero encountered in log\n",
      "  return np.sum(np.log(self.cdf(q * linpred)))\n",
      " 19%|█▉        | 1917/10000 [07:51<30:28,  4.42it/s]/opt/conda/lib/python3.10/site-packages/statsmodels/discrete/discrete_model.py:2385: RuntimeWarning: overflow encountered in exp\n",
      "  return 1/(1+np.exp(-X))\n",
      "/opt/conda/lib/python3.10/site-packages/statsmodels/discrete/discrete_model.py:2443: RuntimeWarning: divide by zero encountered in log\n",
      "  return np.sum(np.log(self.cdf(q * linpred)))\n",
      " 24%|██▎       | 2374/10000 [09:46<30:02,  4.23it/s]/opt/conda/lib/python3.10/site-packages/statsmodels/discrete/discrete_model.py:2385: RuntimeWarning: overflow encountered in exp\n",
      "  return 1/(1+np.exp(-X))\n",
      "/opt/conda/lib/python3.10/site-packages/statsmodels/discrete/discrete_model.py:2443: RuntimeWarning: divide by zero encountered in log\n",
      "  return np.sum(np.log(self.cdf(q * linpred)))\n",
      " 24%|██▍       | 2425/10000 [09:58<26:18,  4.80it/s]/opt/conda/lib/python3.10/site-packages/statsmodels/discrete/discrete_model.py:2385: RuntimeWarning: overflow encountered in exp\n",
      "  return 1/(1+np.exp(-X))\n",
      "/opt/conda/lib/python3.10/site-packages/statsmodels/discrete/discrete_model.py:2443: RuntimeWarning: divide by zero encountered in log\n",
      "  return np.sum(np.log(self.cdf(q * linpred)))\n",
      " 25%|██▌       | 2504/10000 [10:18<29:29,  4.24it/s]/opt/conda/lib/python3.10/site-packages/statsmodels/discrete/discrete_model.py:2385: RuntimeWarning: overflow encountered in exp\n",
      "  return 1/(1+np.exp(-X))\n",
      "/opt/conda/lib/python3.10/site-packages/statsmodels/discrete/discrete_model.py:2443: RuntimeWarning: divide by zero encountered in log\n",
      "  return np.sum(np.log(self.cdf(q * linpred)))\n",
      " 25%|██▌       | 2507/10000 [10:19<32:42,  3.82it/s]/opt/conda/lib/python3.10/site-packages/statsmodels/discrete/discrete_model.py:2385: RuntimeWarning: overflow encountered in exp\n",
      "  return 1/(1+np.exp(-X))\n",
      "/opt/conda/lib/python3.10/site-packages/statsmodels/discrete/discrete_model.py:2443: RuntimeWarning: divide by zero encountered in log\n",
      "  return np.sum(np.log(self.cdf(q * linpred)))\n",
      " 28%|██▊       | 2816/10000 [11:35<28:25,  4.21it/s]/opt/conda/lib/python3.10/site-packages/statsmodels/discrete/discrete_model.py:2385: RuntimeWarning: overflow encountered in exp\n",
      "  return 1/(1+np.exp(-X))\n",
      "/opt/conda/lib/python3.10/site-packages/statsmodels/discrete/discrete_model.py:2443: RuntimeWarning: divide by zero encountered in log\n",
      "  return np.sum(np.log(self.cdf(q * linpred)))\n",
      " 32%|███▏      | 3161/10000 [13:01<21:52,  5.21it/s]/opt/conda/lib/python3.10/site-packages/statsmodels/discrete/discrete_model.py:2385: RuntimeWarning: overflow encountered in exp\n",
      "  return 1/(1+np.exp(-X))\n",
      "/opt/conda/lib/python3.10/site-packages/statsmodels/discrete/discrete_model.py:2443: RuntimeWarning: divide by zero encountered in log\n",
      "  return np.sum(np.log(self.cdf(q * linpred)))\n",
      " 32%|███▏      | 3194/10000 [13:09<23:31,  4.82it/s]/opt/conda/lib/python3.10/site-packages/statsmodels/discrete/discrete_model.py:2385: RuntimeWarning: overflow encountered in exp\n",
      "  return 1/(1+np.exp(-X))\n",
      "/opt/conda/lib/python3.10/site-packages/statsmodels/discrete/discrete_model.py:2443: RuntimeWarning: divide by zero encountered in log\n",
      "  return np.sum(np.log(self.cdf(q * linpred)))\n",
      "/opt/conda/lib/python3.10/site-packages/statsmodels/base/model.py:607: ConvergenceWarning: Maximum Likelihood optimization failed to converge. Check mle_retvals\n",
      "  warnings.warn(\"Maximum Likelihood optimization failed to \"\n",
      " 34%|███▍      | 3435/10000 [14:09<24:58,  4.38it/s]/opt/conda/lib/python3.10/site-packages/statsmodels/discrete/discrete_model.py:2385: RuntimeWarning: overflow encountered in exp\n",
      "  return 1/(1+np.exp(-X))\n",
      "/opt/conda/lib/python3.10/site-packages/statsmodels/discrete/discrete_model.py:2443: RuntimeWarning: divide by zero encountered in log\n",
      "  return np.sum(np.log(self.cdf(q * linpred)))\n",
      " 36%|███▌      | 3616/10000 [14:54<25:35,  4.16it/s]/opt/conda/lib/python3.10/site-packages/statsmodels/discrete/discrete_model.py:2385: RuntimeWarning: overflow encountered in exp\n",
      "  return 1/(1+np.exp(-X))\n",
      "/opt/conda/lib/python3.10/site-packages/statsmodels/discrete/discrete_model.py:2443: RuntimeWarning: divide by zero encountered in log\n",
      "  return np.sum(np.log(self.cdf(q * linpred)))\n",
      " 38%|███▊      | 3843/10000 [15:51<23:52,  4.30it/s]/opt/conda/lib/python3.10/site-packages/statsmodels/discrete/discrete_model.py:2385: RuntimeWarning: overflow encountered in exp\n",
      "  return 1/(1+np.exp(-X))\n",
      "/opt/conda/lib/python3.10/site-packages/statsmodels/discrete/discrete_model.py:2443: RuntimeWarning: divide by zero encountered in log\n",
      "  return np.sum(np.log(self.cdf(q * linpred)))\n",
      " 40%|████      | 4022/10000 [16:35<21:42,  4.59it/s]/opt/conda/lib/python3.10/site-packages/statsmodels/discrete/discrete_model.py:2385: RuntimeWarning: overflow encountered in exp\n",
      "  return 1/(1+np.exp(-X))\n",
      "/opt/conda/lib/python3.10/site-packages/statsmodels/discrete/discrete_model.py:2443: RuntimeWarning: divide by zero encountered in log\n",
      "  return np.sum(np.log(self.cdf(q * linpred)))\n",
      " 44%|████▍     | 4402/10000 [18:11<23:53,  3.90it/s]/opt/conda/lib/python3.10/site-packages/statsmodels/discrete/discrete_model.py:2385: RuntimeWarning: overflow encountered in exp\n",
      "  return 1/(1+np.exp(-X))\n",
      "/opt/conda/lib/python3.10/site-packages/statsmodels/discrete/discrete_model.py:2443: RuntimeWarning: divide by zero encountered in log\n",
      "  return np.sum(np.log(self.cdf(q * linpred)))\n",
      " 47%|████▋     | 4700/10000 [19:27<22:43,  3.89it/s]/opt/conda/lib/python3.10/site-packages/statsmodels/discrete/discrete_model.py:2385: RuntimeWarning: overflow encountered in exp\n",
      "  return 1/(1+np.exp(-X))\n",
      "/opt/conda/lib/python3.10/site-packages/statsmodels/discrete/discrete_model.py:2443: RuntimeWarning: divide by zero encountered in log\n",
      "  return np.sum(np.log(self.cdf(q * linpred)))\n",
      " 51%|█████     | 5074/10000 [21:01<22:49,  3.60it/s]/opt/conda/lib/python3.10/site-packages/statsmodels/discrete/discrete_model.py:2385: RuntimeWarning: overflow encountered in exp\n",
      "  return 1/(1+np.exp(-X))\n",
      "/opt/conda/lib/python3.10/site-packages/statsmodels/discrete/discrete_model.py:2443: RuntimeWarning: divide by zero encountered in log\n",
      "  return np.sum(np.log(self.cdf(q * linpred)))\n",
      " 54%|█████▍    | 5427/10000 [22:29<21:16,  3.58it/s]/opt/conda/lib/python3.10/site-packages/statsmodels/discrete/discrete_model.py:2385: RuntimeWarning: overflow encountered in exp\n",
      "  return 1/(1+np.exp(-X))\n",
      "/opt/conda/lib/python3.10/site-packages/statsmodels/discrete/discrete_model.py:2443: RuntimeWarning: divide by zero encountered in log\n",
      "  return np.sum(np.log(self.cdf(q * linpred)))\n",
      " 56%|█████▋    | 5642/10000 [23:24<17:12,  4.22it/s]/opt/conda/lib/python3.10/site-packages/statsmodels/discrete/discrete_model.py:2385: RuntimeWarning: overflow encountered in exp\n",
      "  return 1/(1+np.exp(-X))\n",
      "/opt/conda/lib/python3.10/site-packages/statsmodels/discrete/discrete_model.py:2443: RuntimeWarning: divide by zero encountered in log\n",
      "  return np.sum(np.log(self.cdf(q * linpred)))\n",
      " 59%|█████▉    | 5888/10000 [24:25<13:53,  4.94it/s]/opt/conda/lib/python3.10/site-packages/statsmodels/discrete/discrete_model.py:2385: RuntimeWarning: overflow encountered in exp\n",
      "  return 1/(1+np.exp(-X))\n",
      "/opt/conda/lib/python3.10/site-packages/statsmodels/discrete/discrete_model.py:2443: RuntimeWarning: divide by zero encountered in log\n",
      "  return np.sum(np.log(self.cdf(q * linpred)))\n",
      " 62%|██████▏   | 6153/10000 [25:34<15:42,  4.08it/s]/opt/conda/lib/python3.10/site-packages/statsmodels/discrete/discrete_model.py:2385: RuntimeWarning: overflow encountered in exp\n",
      "  return 1/(1+np.exp(-X))\n",
      "/opt/conda/lib/python3.10/site-packages/statsmodels/discrete/discrete_model.py:2443: RuntimeWarning: divide by zero encountered in log\n",
      "  return np.sum(np.log(self.cdf(q * linpred)))\n",
      " 67%|██████▋   | 6713/10000 [27:55<11:58,  4.57it/s]/opt/conda/lib/python3.10/site-packages/statsmodels/discrete/discrete_model.py:2385: RuntimeWarning: overflow encountered in exp\n",
      "  return 1/(1+np.exp(-X))\n",
      "/opt/conda/lib/python3.10/site-packages/statsmodels/discrete/discrete_model.py:2443: RuntimeWarning: divide by zero encountered in log\n",
      "  return np.sum(np.log(self.cdf(q * linpred)))\n",
      " 71%|███████   | 7060/10000 [29:22<12:19,  3.97it/s]/opt/conda/lib/python3.10/site-packages/statsmodels/discrete/discrete_model.py:2385: RuntimeWarning: overflow encountered in exp\n",
      "  return 1/(1+np.exp(-X))\n",
      "/opt/conda/lib/python3.10/site-packages/statsmodels/discrete/discrete_model.py:2443: RuntimeWarning: divide by zero encountered in log\n",
      "  return np.sum(np.log(self.cdf(q * linpred)))\n",
      " 77%|███████▋  | 7719/10000 [32:10<09:56,  3.82it/s]/opt/conda/lib/python3.10/site-packages/statsmodels/discrete/discrete_model.py:2385: RuntimeWarning: overflow encountered in exp\n",
      "  return 1/(1+np.exp(-X))\n",
      "/opt/conda/lib/python3.10/site-packages/statsmodels/discrete/discrete_model.py:2443: RuntimeWarning: divide by zero encountered in log\n",
      "  return np.sum(np.log(self.cdf(q * linpred)))\n",
      " 77%|███████▋  | 7748/10000 [32:18<09:42,  3.87it/s]/opt/conda/lib/python3.10/site-packages/statsmodels/discrete/discrete_model.py:2385: RuntimeWarning: overflow encountered in exp\n",
      "  return 1/(1+np.exp(-X))\n",
      "/opt/conda/lib/python3.10/site-packages/statsmodels/discrete/discrete_model.py:2443: RuntimeWarning: divide by zero encountered in log\n",
      "  return np.sum(np.log(self.cdf(q * linpred)))\n",
      " 82%|████████▏ | 8177/10000 [34:06<06:56,  4.38it/s]/opt/conda/lib/python3.10/site-packages/statsmodels/discrete/discrete_model.py:2385: RuntimeWarning: overflow encountered in exp\n",
      "  return 1/(1+np.exp(-X))\n",
      "/opt/conda/lib/python3.10/site-packages/statsmodels/discrete/discrete_model.py:2443: RuntimeWarning: divide by zero encountered in log\n",
      "  return np.sum(np.log(self.cdf(q * linpred)))\n",
      " 85%|████████▍ | 8486/10000 [35:23<05:18,  4.75it/s]/opt/conda/lib/python3.10/site-packages/statsmodels/discrete/discrete_model.py:2385: RuntimeWarning: overflow encountered in exp\n",
      "  return 1/(1+np.exp(-X))\n",
      "/opt/conda/lib/python3.10/site-packages/statsmodels/discrete/discrete_model.py:2443: RuntimeWarning: divide by zero encountered in log\n",
      "  return np.sum(np.log(self.cdf(q * linpred)))\n",
      " 88%|████████▊ | 8826/10000 [36:50<04:09,  4.71it/s]/opt/conda/lib/python3.10/site-packages/statsmodels/discrete/discrete_model.py:2385: RuntimeWarning: overflow encountered in exp\n",
      "  return 1/(1+np.exp(-X))\n",
      "/opt/conda/lib/python3.10/site-packages/statsmodels/discrete/discrete_model.py:2443: RuntimeWarning: divide by zero encountered in log\n",
      "  return np.sum(np.log(self.cdf(q * linpred)))\n",
      " 90%|█████████ | 9036/10000 [37:44<03:45,  4.28it/s]/opt/conda/lib/python3.10/site-packages/statsmodels/discrete/discrete_model.py:2385: RuntimeWarning: overflow encountered in exp\n",
      "  return 1/(1+np.exp(-X))\n",
      "/opt/conda/lib/python3.10/site-packages/statsmodels/discrete/discrete_model.py:2443: RuntimeWarning: divide by zero encountered in log\n",
      "  return np.sum(np.log(self.cdf(q * linpred)))\n",
      " 93%|█████████▎| 9286/10000 [38:47<02:40,  4.46it/s]/opt/conda/lib/python3.10/site-packages/statsmodels/discrete/discrete_model.py:2385: RuntimeWarning: overflow encountered in exp\n",
      "  return 1/(1+np.exp(-X))\n",
      "/opt/conda/lib/python3.10/site-packages/statsmodels/discrete/discrete_model.py:2443: RuntimeWarning: divide by zero encountered in log\n",
      "  return np.sum(np.log(self.cdf(q * linpred)))\n",
      "100%|██████████| 10000/10000 [41:51<00:00,  3.98it/s]\n"
     ]
    }
   ],
   "source": [
    "from scipy.stats import bernoulli\n",
    "from statsmodels.tsa.arima_process import ArmaProcess\n",
    "from tqdm import tqdm\n",
    "from statsmodels.discrete.discrete_model import Logit\n",
    "from statsmodels.tools.tools import add_constant\n",
    "import numpy as np\n",
    "import pandas as pd\n",
    "\n",
    "np.random.seed(21)\n",
    "\n",
    "# Set the AR coefficient\n",
    "ar_coefficient = 0.5\n",
    "p = 200\n",
    "n = 500\n",
    "replications = 10000\n",
    "\n",
    "intercept_p_values = []\n",
    "x1_data_p_values = []\n",
    "\n",
    "# Generate the AR(1) time series\n",
    "ar_process = ArmaProcess(ar=[1, -ar_coefficient])\n",
    "\n",
    "# Calculate the p-values for each run\n",
    "for i in tqdm(range(replications)):\n",
    "\n",
    "    X = []\n",
    "    y = []\n",
    "    for j in range(n):\n",
    "        time_series = ar_process.generate_sample(nsample=p)\n",
    "        X.append(time_series)\n",
    "\n",
    "        prob = probability(time_series[2:22])\n",
    "        #print(prob)\n",
    "        y_observation = bernoulli.rvs(p=prob)\n",
    "        y.append(y_observation)\n",
    "\n",
    "    try:\n",
    "        sm_model = Logit(y, add_constant(X)).fit(disp=0) #like 30min\n",
    "        intercept_p_values.append(sm_model.pvalues[0])\n",
    "        x1_data_p_values.append(sm_model.pvalues[1])\n",
    "    except Exception as e:\n",
    "        continue\n",
    "\n",
    "df = pd.DataFrame({\"intercept p-values\": intercept_p_values, \"x1 p-values\": x1_data_p_values})\n",
    "\n",
    "df.to_csv(\"p_values_right.csv\", index=False)"
   ]
  },
  {
   "cell_type": "code",
   "execution_count": 3,
   "id": "8cf49804",
   "metadata": {
    "ExecuteTime": {
     "end_time": "2024-03-19T10:07:07.615197Z",
     "start_time": "2024-03-19T10:07:07.524987Z"
    },
    "collapsed": false,
    "execution": {
     "iopub.execute_input": "2024-03-19T11:28:29.513045Z",
     "iopub.status.busy": "2024-03-19T11:28:29.511912Z",
     "iopub.status.idle": "2024-03-19T11:28:29.872102Z",
     "shell.execute_reply": "2024-03-19T11:28:29.870803Z"
    },
    "jupyter": {
     "outputs_hidden": false
    },
    "papermill": {
     "duration": 1.309494,
     "end_time": "2024-03-19T11:28:29.874780",
     "exception": false,
     "start_time": "2024-03-19T11:28:28.565286",
     "status": "completed"
    },
    "tags": []
   },
   "outputs": [
    {
     "data": {
      "image/png": "[encoded data removed]",
      "text/plain": [
       "<Figure size 640x480 with 1 Axes>"
      ]
     },
     "metadata": {},
     "output_type": "display_data"
    }
   ],
   "source": [
    "import matplotlib.pyplot as plt\n",
    "\n",
    "# Show a histogram of the p-values\n",
    "plt.hist(intercept_p_values, bins=20) #paper has 20 bins\n",
    "plt.xlabel('Intercept p-values')\n",
    "plt.ylabel('Frequency')\n",
    "plt.title('Histogram of intercept p-values')\n",
    "plt.show()"
   ]
  },
  {
   "cell_type": "code",
   "execution_count": 4,
   "id": "ea3fcdb7",
   "metadata": {
    "ExecuteTime": {
     "end_time": "2024-03-19T10:07:08.740642Z",
     "start_time": "2024-03-19T10:07:08.651184Z"
    },
    "collapsed": false,
    "execution": {
     "iopub.execute_input": "2024-03-19T11:28:31.830236Z",
     "iopub.status.busy": "2024-03-19T11:28:31.829706Z",
     "iopub.status.idle": "2024-03-19T11:28:32.257297Z",
     "shell.execute_reply": "2024-03-19T11:28:32.256084Z"
    },
    "jupyter": {
     "outputs_hidden": false
    },
    "papermill": {
     "duration": 1.452319,
     "end_time": "2024-03-19T11:28:32.259741",
     "exception": false,
     "start_time": "2024-03-19T11:28:30.807422",
     "status": "completed"
    },
    "tags": []
   },
   "outputs": [
    {
     "data": {
      "image/png": "[encoded data removed]",
      "text/plain": [
       "<Figure size 640x480 with 1 Axes>"
      ]
     },
     "metadata": {},
     "output_type": "display_data"
    }
   ],
   "source": [
    "import matplotlib.pyplot as plt\n",
    "\n",
    "# Show a histogram of the p-values\n",
    "plt.hist(x1_data_p_values, bins=20) #paper has 20 bins\n",
    "plt.xlabel('Intercept p-values')\n",
    "plt.ylabel('Frequency')\n",
    "plt.title('Histogram of x_1 p-values')\n",
    "plt.ylim((0, 2000))\n",
    "plt.show()"
   ]
  }
 ],
 "metadata": {
  "kaggle": {
   "accelerator": "none",
   "dataSources": [],
   "dockerImageVersionId": 30664,
   "isGpuEnabled": false,
   "isInternetEnabled": true,
   "language": "python",
   "sourceType": "notebook"
  },
  "kernelspec": {
   "display_name": "Python 3",
   "language": "python",
   "name": "python3"
  },
  "language_info": {
   "codemirror_mode": {
    "name": "ipython",
    "version": 3
   },
   "file_extension": ".py",
   "mimetype": "text/x-python",
   "name": "python",
   "nbconvert_exporter": "python",
   "pygments_lexer": "ipython3",
   "version": "3.12.1"
  },
  "papermill": {
   "default_parameters": {},
   "duration": 2524.129798,
   "end_time": "2024-03-19T11:28:34.169683",
   "environment_variables": {},
   "exception": null,
   "input_path": "__notebook__.ipynb",
   "output_path": "__notebook__.ipynb",
   "parameters": {},
   "start_time": "2024-03-19T10:46:30.039885",
   "version": "2.5.0"
  }
 },
 "nbformat": 4,
 "nbformat_minor": 5
}
